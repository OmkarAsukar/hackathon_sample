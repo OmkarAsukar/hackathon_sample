{
 "cells": [
  {
   "cell_type": "code",
   "execution_count": 160,
   "metadata": {},
   "outputs": [],
   "source": [
    "import numpy as np\n",
    "import pandas as pd\n",
    "import matplotlib.pyplot as plt\n",
    "import matplotlib.style as style # for styling the graphs\n",
    "# style.available (to know the available list of styles)\n",
    "style.use('ggplot') # chosen style\n",
    "plt.rc('xtick',labelsize=13) # to globally set the tick size\n",
    "plt.rc('ytick',labelsize=13) # to globally set the tick size\n",
    "# To print multiple outputs together\n",
    "from IPython.core.interactiveshell import InteractiveShell\n",
    "InteractiveShell.ast_node_interactivity = \"all\"\n",
    "# Change column display number during print\n",
    "pd.set_option('display.max_columns', 500)\n",
    "# Ignore warnings\n",
    "import warnings\n",
    "warnings.filterwarnings('ignore')\n",
    "# To display float with 2 decimal, avoid scientific printing\n",
    "pd.options.display.float_format = '{:.2f}'.format\n",
    "import seaborn as sns\n",
    "import warnings\n",
    "warnings.filterwarnings('ignore')\n",
    "from sklearn.preprocessing import LabelEncoder,MinMaxScaler,StandardScaler\n",
    "from sklearn.linear_model import LinearRegression,LogisticRegression\n",
    "from sklearn.tree import DecisionTreeRegressor\n",
    "from sklearn.ensemble import GradientBoostingRegressor ,RandomForestRegressor\n",
    "from xgboost import XGBRegressor \n",
    "from sklearn.model_selection import GridSearchCV, RandomizedSearchCV\n",
    "from sklearn.linear_model import Ridge,Lasso\n",
    "from sklearn.metrics import mean_squared_error,accuracy_score,mean_squared_log_error,r2_score\n",
    "from scipy.stats.mstats import winsorize\n",
    "from sklearn.feature_selection import RFE\n",
    "from sklearn.model_selection import train_test_split\n",
    "pd.set_option('display.max_columns',None)\n",
    "from sklearn.decomposition import PCA\n",
    "from sklearn.preprocessing import StandardScaler\n",
    "from sklearn.ensemble import VotingClassifier"
   ]
  },
  {
   "cell_type": "code",
   "execution_count": 161,
   "metadata": {},
   "outputs": [],
   "source": [
    "df = pd.read_csv('Train.csv')\n",
    "test = pd.read_csv('Test.csv')"
   ]
  },
  {
   "cell_type": "code",
   "execution_count": 162,
   "metadata": {},
   "outputs": [
    {
     "name": "stdout",
     "output_type": "stream",
     "text": [
      "(34226, 16)\n",
      "(14669, 15)\n"
     ]
    }
   ],
   "source": [
    "print(df.shape)\n",
    "print(test.shape)"
   ]
  },
  {
   "cell_type": "code",
   "execution_count": 163,
   "metadata": {},
   "outputs": [],
   "source": [
    "df.set_index('id',inplace = True)\n",
    "\n",
    "df['last_review'] = pd.to_datetime(df['last_review'])\n",
    "df['month'] = pd.DatetimeIndex(df['last_review']).month\n",
    "df['year'] = pd.DatetimeIndex(df['last_review']).year\n",
    "\n",
    "df['reviews_per_month'] = df['reviews_per_month'].fillna(df['reviews_per_month'].median())\n",
    "df['year'] = df['year'].fillna(df['year'].mode()[0])\n",
    "df['month'] = df['month'].fillna(df['month'].mode()[0])\n",
    "\n",
    "df.loc[df.availability_365 == 0, 'availability_365'] = df.availability_365.median()\n",
    "df.loc[df.number_of_reviews == 0, 'number_of_reviews'] = df.number_of_reviews.median()\n",
    "df.loc[df.price == 0, 'price'] = df.price.median()\n",
    "\n",
    "df['month'] = df['month'].astype(int)\n",
    "df['year'] = df['year'].astype(int)\n",
    "df['number_of_reviews'] = df['number_of_reviews'].astype(int)\n",
    "df['price'] = df['price'].astype(int)\n",
    "df['availability_365'] = df['availability_365'].astype(int)"
   ]
  },
  {
   "cell_type": "code",
   "execution_count": 164,
   "metadata": {},
   "outputs": [],
   "source": [
    "test.set_index('id',inplace = True)\n",
    "\n",
    "test['last_review'] = pd.to_datetime(test['last_review'])\n",
    "test['month'] = pd.DatetimeIndex(test['last_review']).month\n",
    "test['year'] = pd.DatetimeIndex(test['last_review']).year\n",
    "\n",
    "test['reviews_per_month'] = test['reviews_per_month'].fillna(test['reviews_per_month'].median())\n",
    "test['year'] = test['year'].fillna(test['year'].mode()[0])\n",
    "test['month'] = test['month'].fillna(test['month'].mode()[0])\n",
    "\n",
    "test.loc[test.availability_365 == 0, 'availability_365'] = test.availability_365.median()\n",
    "test.loc[test.number_of_reviews == 0, 'number_of_reviews'] = test.number_of_reviews.median()\n",
    "#test.loc[test.price == 0, 'price'] = test.price.median()\n",
    "\n",
    "test['month'] = test['month'].astype(int)\n",
    "test['year'] = test['year'].astype(int)\n",
    "test['number_of_reviews'] = test['number_of_reviews'].astype(int)\n",
    "#test['price'] = test['price'].astype(int)\n",
    "test['availability_365'] = test['availability_365'].astype(int)"
   ]
  },
  {
   "cell_type": "code",
   "execution_count": 165,
   "metadata": {},
   "outputs": [],
   "source": [
    "df.drop(['name','host_name','last_review','host_id','neighbourhood','month','year'],axis = 1,inplace=True)\n",
    "test.drop(['name','host_name','last_review','host_id','neighbourhood','month','year'],axis = 1,inplace=True)"
   ]
  },
  {
   "cell_type": "code",
   "execution_count": 166,
   "metadata": {},
   "outputs": [
    {
     "data": {
      "text/plain": [
       "<matplotlib.axes._subplots.AxesSubplot at 0x1e6630fcd08>"
      ]
     },
     "execution_count": 166,
     "metadata": {},
     "output_type": "execute_result"
    },
    {
     "data": {
      "image/png": "[encoded data removed]",
      "text/plain": [
       "<Figure size 864x576 with 1 Axes>"
      ]
     },
     "metadata": {},
     "output_type": "display_data"
    }
   ],
   "source": [
    "df.drop('price', axis=1).corrwith(df.price).plot(kind='bar', grid=True, figsize=(12, 8), \n",
    "                                                   title=\"Correlation with target\")"
   ]
  },
  {
   "cell_type": "code",
   "execution_count": 167,
   "metadata": {},
   "outputs": [
    {
     "data": {
      "text/html": [
       "<div>\n",
       "<style scoped>\n",
       "    .dataframe tbody tr th:only-of-type {\n",
       "        vertical-align: middle;\n",
       "    }\n",
       "\n",
       "    .dataframe tbody tr th {\n",
       "        vertical-align: top;\n",
       "    }\n",
       "\n",
       "    .dataframe thead th {\n",
       "        text-align: right;\n",
       "    }\n",
       "</style>\n",
       "<table border=\"1\" class=\"dataframe\">\n",
       "  <thead>\n",
       "    <tr style=\"text-align: right;\">\n",
       "      <th></th>\n",
       "      <th>Feature</th>\n",
       "      <th>Number of Outliers</th>\n",
       "    </tr>\n",
       "  </thead>\n",
       "  <tbody>\n",
       "    <tr>\n",
       "      <th>0</th>\n",
       "      <td>latitude</td>\n",
       "      <td>301</td>\n",
       "    </tr>\n",
       "    <tr>\n",
       "      <th>1</th>\n",
       "      <td>longitude</td>\n",
       "      <td>1965</td>\n",
       "    </tr>\n",
       "    <tr>\n",
       "      <th>2</th>\n",
       "      <td>price</td>\n",
       "      <td>2114</td>\n",
       "    </tr>\n",
       "    <tr>\n",
       "      <th>3</th>\n",
       "      <td>minimum_nights</td>\n",
       "      <td>4581</td>\n",
       "    </tr>\n",
       "    <tr>\n",
       "      <th>4</th>\n",
       "      <td>number_of_reviews</td>\n",
       "      <td>4557</td>\n",
       "    </tr>\n",
       "    <tr>\n",
       "      <th>5</th>\n",
       "      <td>reviews_per_month</td>\n",
       "      <td>2765</td>\n",
       "    </tr>\n",
       "    <tr>\n",
       "      <th>6</th>\n",
       "      <td>calculated_host_listings_count</td>\n",
       "      <td>4930</td>\n",
       "    </tr>\n",
       "    <tr>\n",
       "      <th>7</th>\n",
       "      <td>availability_365</td>\n",
       "      <td>0</td>\n",
       "    </tr>\n",
       "  </tbody>\n",
       "</table>\n",
       "</div>"
      ],
      "text/plain": [
       "                          Feature Number of Outliers\n",
       "0                        latitude                301\n",
       "1                       longitude               1965\n",
       "2                           price               2114\n",
       "3                  minimum_nights               4581\n",
       "4               number_of_reviews               4557\n",
       "5               reviews_per_month               2765\n",
       "6  calculated_host_listings_count               4930\n",
       "7                availability_365                  0"
      ]
     },
     "execution_count": 167,
     "metadata": {},
     "output_type": "execute_result"
    },
    {
     "data": {
      "text/html": [
       "<div>\n",
       "<style scoped>\n",
       "    .dataframe tbody tr th:only-of-type {\n",
       "        vertical-align: middle;\n",
       "    }\n",
       "\n",
       "    .dataframe tbody tr th {\n",
       "        vertical-align: top;\n",
       "    }\n",
       "\n",
       "    .dataframe thead th {\n",
       "        text-align: right;\n",
       "    }\n",
       "</style>\n",
       "<table border=\"1\" class=\"dataframe\">\n",
       "  <thead>\n",
       "    <tr style=\"text-align: right;\">\n",
       "      <th></th>\n",
       "      <th>Feature</th>\n",
       "      <th>Number of Outliers</th>\n",
       "    </tr>\n",
       "  </thead>\n",
       "  <tbody>\n",
       "    <tr>\n",
       "      <th>0</th>\n",
       "      <td>latitude</td>\n",
       "      <td>119</td>\n",
       "    </tr>\n",
       "    <tr>\n",
       "      <th>1</th>\n",
       "      <td>longitude</td>\n",
       "      <td>863</td>\n",
       "    </tr>\n",
       "    <tr>\n",
       "      <th>2</th>\n",
       "      <td>minimum_nights</td>\n",
       "      <td>2026</td>\n",
       "    </tr>\n",
       "    <tr>\n",
       "      <th>3</th>\n",
       "      <td>number_of_reviews</td>\n",
       "      <td>1974</td>\n",
       "    </tr>\n",
       "    <tr>\n",
       "      <th>4</th>\n",
       "      <td>reviews_per_month</td>\n",
       "      <td>1307</td>\n",
       "    </tr>\n",
       "    <tr>\n",
       "      <th>5</th>\n",
       "      <td>calculated_host_listings_count</td>\n",
       "      <td>2151</td>\n",
       "    </tr>\n",
       "    <tr>\n",
       "      <th>6</th>\n",
       "      <td>availability_365</td>\n",
       "      <td>0</td>\n",
       "    </tr>\n",
       "  </tbody>\n",
       "</table>\n",
       "</div>"
      ],
      "text/plain": [
       "                          Feature Number of Outliers\n",
       "0                        latitude                119\n",
       "1                       longitude                863\n",
       "2                  minimum_nights               2026\n",
       "3               number_of_reviews               1974\n",
       "4               reviews_per_month               1307\n",
       "5  calculated_host_listings_count               2151\n",
       "6                availability_365                  0"
      ]
     },
     "execution_count": 167,
     "metadata": {},
     "output_type": "execute_result"
    }
   ],
   "source": [
    "def detect_outliers(dataframe):\n",
    "    cols = list(dataframe)\n",
    "    outliers = pd.DataFrame(columns=['Feature','Number of Outliers'])\n",
    "    \n",
    "    for column in cols:\n",
    "        if column in dataframe.select_dtypes(include=np.number).columns:\n",
    "            # first quartile (Q1)\n",
    "            q1 = dataframe[column].quantile(0.25) \n",
    "            \n",
    "            # third quartile (Q3)\n",
    "            q3 = dataframe[column].quantile(0.75)\n",
    "            \n",
    "            # IQR\n",
    "            iqr = q3 - q1\n",
    "            \n",
    "            fence_low = q1 - (1.5*iqr)\n",
    "            fence_high = q3 + (1.5*iqr)\n",
    "            outliers = outliers.append({'Feature':column,'Number of Outliers':dataframe.loc[(dataframe[column] < fence_low) | (dataframe[column] > fence_high)].shape[0]},ignore_index=True)\n",
    "    return outliers\n",
    "\n",
    "detect_outliers(df)\n",
    "detect_outliers(test)"
   ]
  },
  {
   "cell_type": "code",
   "execution_count": 168,
   "metadata": {},
   "outputs": [
    {
     "data": {
      "text/plain": [
       "latitude                          0.24\n",
       "longitude                         1.28\n",
       "price                            18.82\n",
       "minimum_nights                   24.00\n",
       "number_of_reviews                 3.72\n",
       "reviews_per_month                 3.98\n",
       "calculated_host_listings_count    7.97\n",
       "availability_365                  0.86\n",
       "dtype: float64"
      ]
     },
     "execution_count": 168,
     "metadata": {},
     "output_type": "execute_result"
    }
   ],
   "source": [
    "df.skew()"
   ]
  },
  {
   "cell_type": "code",
   "execution_count": 169,
   "metadata": {},
   "outputs": [],
   "source": [
    "#df['month'] = winsorize(df['month'] , limits=[0.05, 0.1],inclusive=(True, True))\n",
    "#df['year'] = winsorize(df['year'] , limits=[0.05, 0.1],inclusive=(True, True))\n",
    "df['number_of_reviews'] = winsorize(df['number_of_reviews'] , limits=[0.05, 0.1],inclusive=(True, True))\n",
    "df['reviews_per_month'] = winsorize(df['reviews_per_month'] , limits=[0.05, 0.1],inclusive=(True, True))\n",
    "df['minimum_nights'] = winsorize(df['minimum_nights'] , limits=[0.05, 0.1],inclusive=(True, True))\n",
    "df['price'] = winsorize(df['price'] , limits=[0.05, 0.1],inclusive=(True, True))\n",
    "df['calculated_host_listings_count']=winsorize(df['calculated_host_listings_count'] , limits=[0.05, 0.1],inclusive=(True, True))\n",
    "df['latitude']= winsorize(df['latitude'] , limits=[0.05, 0.1],inclusive=(True, True))\n",
    "df['longitude']= winsorize(df['longitude'] , limits=[0.05, 0.1],inclusive=(True, True))"
   ]
  },
  {
   "cell_type": "code",
   "execution_count": 170,
   "metadata": {},
   "outputs": [],
   "source": [
    "#test['month'] = winsorize(test['month'] , limits=[0.05, 0.1],inclusive=(True, True))\n",
    "#test['year'] = winsorize(test['year'] , limits=[0.05, 0.1],inclusive=(True, True))\n",
    "test['number_of_reviews'] = winsorize(test['number_of_reviews'] , limits=[0.05, 0.1],inclusive=(True, True))\n",
    "test['reviews_per_month'] = winsorize(test['reviews_per_month'] , limits=[0.05, 0.1],inclusive=(True, True))\n",
    "test['minimum_nights'] = winsorize(test['minimum_nights'] , limits=[0.05, 0.1],inclusive=(True, True))\n",
    "#test['price'] = winsorize(test['price'] , limits=[0.05, 0.1],inclusive=(True, True))\n",
    "test['calculated_host_listings_count']=winsorize(test['calculated_host_listings_count'] , limits=[0.05, 0.1],inclusive=(True, True))\n",
    "test['latitude']= winsorize(test['latitude'] , limits=[0.05, 0.1],inclusive=(True, True))\n",
    "test['longitude']= winsorize(test['longitude'] , limits=[0.05, 0.1],inclusive=(True, True))"
   ]
  },
  {
   "cell_type": "code",
   "execution_count": 171,
   "metadata": {},
   "outputs": [
    {
     "data": {
      "text/html": [
       "<div>\n",
       "<style scoped>\n",
       "    .dataframe tbody tr th:only-of-type {\n",
       "        vertical-align: middle;\n",
       "    }\n",
       "\n",
       "    .dataframe tbody tr th {\n",
       "        vertical-align: top;\n",
       "    }\n",
       "\n",
       "    .dataframe thead th {\n",
       "        text-align: right;\n",
       "    }\n",
       "</style>\n",
       "<table border=\"1\" class=\"dataframe\">\n",
       "  <thead>\n",
       "    <tr style=\"text-align: right;\">\n",
       "      <th></th>\n",
       "      <th>Feature</th>\n",
       "      <th>Number of Outliers</th>\n",
       "    </tr>\n",
       "  </thead>\n",
       "  <tbody>\n",
       "    <tr>\n",
       "      <th>0</th>\n",
       "      <td>latitude</td>\n",
       "      <td>0</td>\n",
       "    </tr>\n",
       "    <tr>\n",
       "      <th>1</th>\n",
       "      <td>longitude</td>\n",
       "      <td>0</td>\n",
       "    </tr>\n",
       "    <tr>\n",
       "      <th>2</th>\n",
       "      <td>price</td>\n",
       "      <td>0</td>\n",
       "    </tr>\n",
       "    <tr>\n",
       "      <th>3</th>\n",
       "      <td>minimum_nights</td>\n",
       "      <td>4581</td>\n",
       "    </tr>\n",
       "    <tr>\n",
       "      <th>4</th>\n",
       "      <td>number_of_reviews</td>\n",
       "      <td>4557</td>\n",
       "    </tr>\n",
       "    <tr>\n",
       "      <th>5</th>\n",
       "      <td>reviews_per_month</td>\n",
       "      <td>0</td>\n",
       "    </tr>\n",
       "    <tr>\n",
       "      <th>6</th>\n",
       "      <td>calculated_host_listings_count</td>\n",
       "      <td>4930</td>\n",
       "    </tr>\n",
       "    <tr>\n",
       "      <th>7</th>\n",
       "      <td>availability_365</td>\n",
       "      <td>0</td>\n",
       "    </tr>\n",
       "  </tbody>\n",
       "</table>\n",
       "</div>"
      ],
      "text/plain": [
       "                          Feature Number of Outliers\n",
       "0                        latitude                  0\n",
       "1                       longitude                  0\n",
       "2                           price                  0\n",
       "3                  minimum_nights               4581\n",
       "4               number_of_reviews               4557\n",
       "5               reviews_per_month                  0\n",
       "6  calculated_host_listings_count               4930\n",
       "7                availability_365                  0"
      ]
     },
     "execution_count": 171,
     "metadata": {},
     "output_type": "execute_result"
    },
    {
     "data": {
      "text/html": [
       "<div>\n",
       "<style scoped>\n",
       "    .dataframe tbody tr th:only-of-type {\n",
       "        vertical-align: middle;\n",
       "    }\n",
       "\n",
       "    .dataframe tbody tr th {\n",
       "        vertical-align: top;\n",
       "    }\n",
       "\n",
       "    .dataframe thead th {\n",
       "        text-align: right;\n",
       "    }\n",
       "</style>\n",
       "<table border=\"1\" class=\"dataframe\">\n",
       "  <thead>\n",
       "    <tr style=\"text-align: right;\">\n",
       "      <th></th>\n",
       "      <th>Feature</th>\n",
       "      <th>Number of Outliers</th>\n",
       "    </tr>\n",
       "  </thead>\n",
       "  <tbody>\n",
       "    <tr>\n",
       "      <th>0</th>\n",
       "      <td>latitude</td>\n",
       "      <td>0</td>\n",
       "    </tr>\n",
       "    <tr>\n",
       "      <th>1</th>\n",
       "      <td>longitude</td>\n",
       "      <td>0</td>\n",
       "    </tr>\n",
       "    <tr>\n",
       "      <th>2</th>\n",
       "      <td>minimum_nights</td>\n",
       "      <td>2026</td>\n",
       "    </tr>\n",
       "    <tr>\n",
       "      <th>3</th>\n",
       "      <td>number_of_reviews</td>\n",
       "      <td>1974</td>\n",
       "    </tr>\n",
       "    <tr>\n",
       "      <th>4</th>\n",
       "      <td>reviews_per_month</td>\n",
       "      <td>0</td>\n",
       "    </tr>\n",
       "    <tr>\n",
       "      <th>5</th>\n",
       "      <td>calculated_host_listings_count</td>\n",
       "      <td>2151</td>\n",
       "    </tr>\n",
       "    <tr>\n",
       "      <th>6</th>\n",
       "      <td>availability_365</td>\n",
       "      <td>0</td>\n",
       "    </tr>\n",
       "  </tbody>\n",
       "</table>\n",
       "</div>"
      ],
      "text/plain": [
       "                          Feature Number of Outliers\n",
       "0                        latitude                  0\n",
       "1                       longitude                  0\n",
       "2                  minimum_nights               2026\n",
       "3               number_of_reviews               1974\n",
       "4               reviews_per_month                  0\n",
       "5  calculated_host_listings_count               2151\n",
       "6                availability_365                  0"
      ]
     },
     "execution_count": 171,
     "metadata": {},
     "output_type": "execute_result"
    }
   ],
   "source": [
    "detect_outliers(df)\n",
    "detect_outliers(test)"
   ]
  },
  {
   "cell_type": "code",
   "execution_count": 172,
   "metadata": {},
   "outputs": [],
   "source": [
    "df['number_of_reviews']= np.log1p(df['number_of_reviews'])\n",
    "test['number_of_reviews'] = np.log1p(test['number_of_reviews'])\n",
    "df['minimum_nights']= np.log1p(df['minimum_nights'])\n",
    "test['minimum_nights']= np.log1p(test['minimum_nights'])"
   ]
  },
  {
   "cell_type": "code",
   "execution_count": 173,
   "metadata": {},
   "outputs": [
    {
     "data": {
      "text/html": [
       "<div>\n",
       "<style scoped>\n",
       "    .dataframe tbody tr th:only-of-type {\n",
       "        vertical-align: middle;\n",
       "    }\n",
       "\n",
       "    .dataframe tbody tr th {\n",
       "        vertical-align: top;\n",
       "    }\n",
       "\n",
       "    .dataframe thead th {\n",
       "        text-align: right;\n",
       "    }\n",
       "</style>\n",
       "<table border=\"1\" class=\"dataframe\">\n",
       "  <thead>\n",
       "    <tr style=\"text-align: right;\">\n",
       "      <th></th>\n",
       "      <th>Feature</th>\n",
       "      <th>Number of Outliers</th>\n",
       "    </tr>\n",
       "  </thead>\n",
       "  <tbody>\n",
       "    <tr>\n",
       "      <th>0</th>\n",
       "      <td>latitude</td>\n",
       "      <td>0</td>\n",
       "    </tr>\n",
       "    <tr>\n",
       "      <th>1</th>\n",
       "      <td>longitude</td>\n",
       "      <td>0</td>\n",
       "    </tr>\n",
       "    <tr>\n",
       "      <th>2</th>\n",
       "      <td>price</td>\n",
       "      <td>0</td>\n",
       "    </tr>\n",
       "    <tr>\n",
       "      <th>3</th>\n",
       "      <td>minimum_nights</td>\n",
       "      <td>0</td>\n",
       "    </tr>\n",
       "    <tr>\n",
       "      <th>4</th>\n",
       "      <td>number_of_reviews</td>\n",
       "      <td>0</td>\n",
       "    </tr>\n",
       "    <tr>\n",
       "      <th>5</th>\n",
       "      <td>reviews_per_month</td>\n",
       "      <td>0</td>\n",
       "    </tr>\n",
       "    <tr>\n",
       "      <th>6</th>\n",
       "      <td>calculated_host_listings_count</td>\n",
       "      <td>4930</td>\n",
       "    </tr>\n",
       "    <tr>\n",
       "      <th>7</th>\n",
       "      <td>availability_365</td>\n",
       "      <td>0</td>\n",
       "    </tr>\n",
       "  </tbody>\n",
       "</table>\n",
       "</div>"
      ],
      "text/plain": [
       "                          Feature Number of Outliers\n",
       "0                        latitude                  0\n",
       "1                       longitude                  0\n",
       "2                           price                  0\n",
       "3                  minimum_nights                  0\n",
       "4               number_of_reviews                  0\n",
       "5               reviews_per_month                  0\n",
       "6  calculated_host_listings_count               4930\n",
       "7                availability_365                  0"
      ]
     },
     "execution_count": 173,
     "metadata": {},
     "output_type": "execute_result"
    },
    {
     "data": {
      "text/html": [
       "<div>\n",
       "<style scoped>\n",
       "    .dataframe tbody tr th:only-of-type {\n",
       "        vertical-align: middle;\n",
       "    }\n",
       "\n",
       "    .dataframe tbody tr th {\n",
       "        vertical-align: top;\n",
       "    }\n",
       "\n",
       "    .dataframe thead th {\n",
       "        text-align: right;\n",
       "    }\n",
       "</style>\n",
       "<table border=\"1\" class=\"dataframe\">\n",
       "  <thead>\n",
       "    <tr style=\"text-align: right;\">\n",
       "      <th></th>\n",
       "      <th>Feature</th>\n",
       "      <th>Number of Outliers</th>\n",
       "    </tr>\n",
       "  </thead>\n",
       "  <tbody>\n",
       "    <tr>\n",
       "      <th>0</th>\n",
       "      <td>latitude</td>\n",
       "      <td>0</td>\n",
       "    </tr>\n",
       "    <tr>\n",
       "      <th>1</th>\n",
       "      <td>longitude</td>\n",
       "      <td>0</td>\n",
       "    </tr>\n",
       "    <tr>\n",
       "      <th>2</th>\n",
       "      <td>minimum_nights</td>\n",
       "      <td>0</td>\n",
       "    </tr>\n",
       "    <tr>\n",
       "      <th>3</th>\n",
       "      <td>number_of_reviews</td>\n",
       "      <td>0</td>\n",
       "    </tr>\n",
       "    <tr>\n",
       "      <th>4</th>\n",
       "      <td>reviews_per_month</td>\n",
       "      <td>0</td>\n",
       "    </tr>\n",
       "    <tr>\n",
       "      <th>5</th>\n",
       "      <td>calculated_host_listings_count</td>\n",
       "      <td>2151</td>\n",
       "    </tr>\n",
       "    <tr>\n",
       "      <th>6</th>\n",
       "      <td>availability_365</td>\n",
       "      <td>0</td>\n",
       "    </tr>\n",
       "  </tbody>\n",
       "</table>\n",
       "</div>"
      ],
      "text/plain": [
       "                          Feature Number of Outliers\n",
       "0                        latitude                  0\n",
       "1                       longitude                  0\n",
       "2                  minimum_nights                  0\n",
       "3               number_of_reviews                  0\n",
       "4               reviews_per_month                  0\n",
       "5  calculated_host_listings_count               2151\n",
       "6                availability_365                  0"
      ]
     },
     "execution_count": 173,
     "metadata": {},
     "output_type": "execute_result"
    }
   ],
   "source": [
    "detect_outliers(df)\n",
    "detect_outliers(test)"
   ]
  },
  {
   "cell_type": "code",
   "execution_count": 144,
   "metadata": {},
   "outputs": [],
   "source": [
    "X=df.drop('price',axis=1)\n",
    "y=df.price\n",
    "X_train,X_test,y_train,y_test= train_test_split(X,y,test_size=0.3,random_state=42)"
   ]
  },
  {
   "cell_type": "code",
   "execution_count": 145,
   "metadata": {},
   "outputs": [],
   "source": [
    "label_encode_cols = ['neighbourhood_group','room_type']"
   ]
  },
  {
   "cell_type": "code",
   "execution_count": 146,
   "metadata": {},
   "outputs": [
    {
     "name": "stdout",
     "output_type": "stream",
     "text": [
      "(10268, 9)\n",
      "(10268,)\n",
      "(14669, 9)\n"
     ]
    }
   ],
   "source": [
    "print(X_test.shape)\n",
    "print(y_test.shape)\n",
    "print(test.shape)"
   ]
  },
  {
   "cell_type": "code",
   "execution_count": 51,
   "metadata": {},
   "outputs": [],
   "source": [
    "for col in label_encode_cols:\n",
    "    le = LabelEncoder()\n",
    "    X_train[col] = le.fit_transform(X_train[col])\n",
    "    X_test[col] = le.transform(X_test[col])\n",
    "    test[col]= le.transform(test[col])"
   ]
  },
  {
   "cell_type": "code",
   "execution_count": 52,
   "metadata": {},
   "outputs": [
    {
     "data": {
      "text/html": [
       "<div>\n",
       "<style scoped>\n",
       "    .dataframe tbody tr th:only-of-type {\n",
       "        vertical-align: middle;\n",
       "    }\n",
       "\n",
       "    .dataframe tbody tr th {\n",
       "        vertical-align: top;\n",
       "    }\n",
       "\n",
       "    .dataframe thead th {\n",
       "        text-align: right;\n",
       "    }\n",
       "</style>\n",
       "<table border=\"1\" class=\"dataframe\">\n",
       "  <thead>\n",
       "    <tr style=\"text-align: right;\">\n",
       "      <th></th>\n",
       "      <th>neighbourhood_group</th>\n",
       "      <th>latitude</th>\n",
       "      <th>longitude</th>\n",
       "      <th>room_type</th>\n",
       "      <th>minimum_nights</th>\n",
       "      <th>number_of_reviews</th>\n",
       "      <th>reviews_per_month</th>\n",
       "      <th>calculated_host_listings_count</th>\n",
       "      <th>availability_365</th>\n",
       "    </tr>\n",
       "    <tr>\n",
       "      <th>id</th>\n",
       "      <th></th>\n",
       "      <th></th>\n",
       "      <th></th>\n",
       "      <th></th>\n",
       "      <th></th>\n",
       "      <th></th>\n",
       "      <th></th>\n",
       "      <th></th>\n",
       "      <th></th>\n",
       "    </tr>\n",
       "  </thead>\n",
       "  <tbody>\n",
       "    <tr>\n",
       "      <th>8881955</th>\n",
       "      <td>1</td>\n",
       "      <td>40.67</td>\n",
       "      <td>-73.96</td>\n",
       "      <td>1</td>\n",
       "      <td>1.10</td>\n",
       "      <td>0.69</td>\n",
       "      <td>0.05</td>\n",
       "      <td>1</td>\n",
       "      <td>45</td>\n",
       "    </tr>\n",
       "    <tr>\n",
       "      <th>18612976</th>\n",
       "      <td>1</td>\n",
       "      <td>40.66</td>\n",
       "      <td>-73.91</td>\n",
       "      <td>1</td>\n",
       "      <td>1.95</td>\n",
       "      <td>3.30</td>\n",
       "      <td>1.00</td>\n",
       "      <td>3</td>\n",
       "      <td>90</td>\n",
       "    </tr>\n",
       "    <tr>\n",
       "      <th>18763188</th>\n",
       "      <td>2</td>\n",
       "      <td>40.80</td>\n",
       "      <td>-73.97</td>\n",
       "      <td>0</td>\n",
       "      <td>1.39</td>\n",
       "      <td>1.39</td>\n",
       "      <td>0.27</td>\n",
       "      <td>1</td>\n",
       "      <td>45</td>\n",
       "    </tr>\n",
       "    <tr>\n",
       "      <th>36312899</th>\n",
       "      <td>3</td>\n",
       "      <td>40.69</td>\n",
       "      <td>-73.91</td>\n",
       "      <td>0</td>\n",
       "      <td>1.10</td>\n",
       "      <td>1.79</td>\n",
       "      <td>0.73</td>\n",
       "      <td>1</td>\n",
       "      <td>62</td>\n",
       "    </tr>\n",
       "    <tr>\n",
       "      <th>13980280</th>\n",
       "      <td>1</td>\n",
       "      <td>40.68</td>\n",
       "      <td>-73.97</td>\n",
       "      <td>0</td>\n",
       "      <td>2.40</td>\n",
       "      <td>1.79</td>\n",
       "      <td>0.73</td>\n",
       "      <td>1</td>\n",
       "      <td>45</td>\n",
       "    </tr>\n",
       "  </tbody>\n",
       "</table>\n",
       "</div>"
      ],
      "text/plain": [
       "          neighbourhood_group  latitude  longitude  room_type  minimum_nights  \\\n",
       "id                                                                              \n",
       "8881955                     1     40.67     -73.96          1            1.10   \n",
       "18612976                    1     40.66     -73.91          1            1.95   \n",
       "18763188                    2     40.80     -73.97          0            1.39   \n",
       "36312899                    3     40.69     -73.91          0            1.10   \n",
       "13980280                    1     40.68     -73.97          0            2.40   \n",
       "\n",
       "          number_of_reviews  reviews_per_month  \\\n",
       "id                                               \n",
       "8881955                0.69               0.05   \n",
       "18612976               3.30               1.00   \n",
       "18763188               1.39               0.27   \n",
       "36312899               1.79               0.73   \n",
       "13980280               1.79               0.73   \n",
       "\n",
       "          calculated_host_listings_count  availability_365  \n",
       "id                                                          \n",
       "8881955                                1                45  \n",
       "18612976                               3                90  \n",
       "18763188                               1                45  \n",
       "36312899                               1                62  \n",
       "13980280                               1                45  "
      ]
     },
     "execution_count": 52,
     "metadata": {},
     "output_type": "execute_result"
    }
   ],
   "source": [
    "X_train.head()"
   ]
  },
  {
   "cell_type": "code",
   "execution_count": 53,
   "metadata": {},
   "outputs": [
    {
     "data": {
      "text/html": [
       "<div>\n",
       "<style scoped>\n",
       "    .dataframe tbody tr th:only-of-type {\n",
       "        vertical-align: middle;\n",
       "    }\n",
       "\n",
       "    .dataframe tbody tr th {\n",
       "        vertical-align: top;\n",
       "    }\n",
       "\n",
       "    .dataframe thead th {\n",
       "        text-align: right;\n",
       "    }\n",
       "</style>\n",
       "<table border=\"1\" class=\"dataframe\">\n",
       "  <thead>\n",
       "    <tr style=\"text-align: right;\">\n",
       "      <th></th>\n",
       "      <th>neighbourhood_group</th>\n",
       "      <th>latitude</th>\n",
       "      <th>longitude</th>\n",
       "      <th>room_type</th>\n",
       "      <th>minimum_nights</th>\n",
       "      <th>number_of_reviews</th>\n",
       "      <th>reviews_per_month</th>\n",
       "      <th>calculated_host_listings_count</th>\n",
       "      <th>availability_365</th>\n",
       "    </tr>\n",
       "    <tr>\n",
       "      <th>id</th>\n",
       "      <th></th>\n",
       "      <th></th>\n",
       "      <th></th>\n",
       "      <th></th>\n",
       "      <th></th>\n",
       "      <th></th>\n",
       "      <th></th>\n",
       "      <th></th>\n",
       "      <th></th>\n",
       "    </tr>\n",
       "  </thead>\n",
       "  <tbody>\n",
       "    <tr>\n",
       "      <th>1525602</th>\n",
       "      <td>1</td>\n",
       "      <td>40.67</td>\n",
       "      <td>-73.96</td>\n",
       "      <td>0</td>\n",
       "      <td>1.10</td>\n",
       "      <td>4.26</td>\n",
       "      <td>1.70</td>\n",
       "      <td>1</td>\n",
       "      <td>39</td>\n",
       "    </tr>\n",
       "    <tr>\n",
       "      <th>30430185</th>\n",
       "      <td>2</td>\n",
       "      <td>40.76</td>\n",
       "      <td>-74.00</td>\n",
       "      <td>1</td>\n",
       "      <td>0.69</td>\n",
       "      <td>2.94</td>\n",
       "      <td>2.49</td>\n",
       "      <td>6</td>\n",
       "      <td>364</td>\n",
       "    </tr>\n",
       "    <tr>\n",
       "      <th>21354525</th>\n",
       "      <td>1</td>\n",
       "      <td>40.69</td>\n",
       "      <td>-73.99</td>\n",
       "      <td>1</td>\n",
       "      <td>0.69</td>\n",
       "      <td>4.26</td>\n",
       "      <td>3.21</td>\n",
       "      <td>1</td>\n",
       "      <td>108</td>\n",
       "    </tr>\n",
       "    <tr>\n",
       "      <th>35995074</th>\n",
       "      <td>3</td>\n",
       "      <td>40.77</td>\n",
       "      <td>-73.91</td>\n",
       "      <td>1</td>\n",
       "      <td>2.30</td>\n",
       "      <td>1.79</td>\n",
       "      <td>0.70</td>\n",
       "      <td>2</td>\n",
       "      <td>365</td>\n",
       "    </tr>\n",
       "    <tr>\n",
       "      <th>34392081</th>\n",
       "      <td>1</td>\n",
       "      <td>40.72</td>\n",
       "      <td>-73.95</td>\n",
       "      <td>1</td>\n",
       "      <td>0.69</td>\n",
       "      <td>3.37</td>\n",
       "      <td>3.21</td>\n",
       "      <td>2</td>\n",
       "      <td>20</td>\n",
       "    </tr>\n",
       "  </tbody>\n",
       "</table>\n",
       "</div>"
      ],
      "text/plain": [
       "          neighbourhood_group  latitude  longitude  room_type  minimum_nights  \\\n",
       "id                                                                              \n",
       "1525602                     1     40.67     -73.96          0            1.10   \n",
       "30430185                    2     40.76     -74.00          1            0.69   \n",
       "21354525                    1     40.69     -73.99          1            0.69   \n",
       "35995074                    3     40.77     -73.91          1            2.30   \n",
       "34392081                    1     40.72     -73.95          1            0.69   \n",
       "\n",
       "          number_of_reviews  reviews_per_month  \\\n",
       "id                                               \n",
       "1525602                4.26               1.70   \n",
       "30430185               2.94               2.49   \n",
       "21354525               4.26               3.21   \n",
       "35995074               1.79               0.70   \n",
       "34392081               3.37               3.21   \n",
       "\n",
       "          calculated_host_listings_count  availability_365  \n",
       "id                                                          \n",
       "1525602                                1                39  \n",
       "30430185                               6               364  \n",
       "21354525                               1               108  \n",
       "35995074                               2               365  \n",
       "34392081                               2                20  "
      ]
     },
     "execution_count": 53,
     "metadata": {},
     "output_type": "execute_result"
    }
   ],
   "source": [
    "test.head()"
   ]
  },
  {
   "cell_type": "code",
   "execution_count": 55,
   "metadata": {},
   "outputs": [
    {
     "data": {
      "text/plain": [
       "Manhattan        15193\n",
       "Brooklyn         14033\n",
       "Queens            3985\n",
       "Bronx              767\n",
       "Staten Island      248\n",
       "Name: neighbourhood_group, dtype: int64"
      ]
     },
     "execution_count": 55,
     "metadata": {},
     "output_type": "execute_result"
    }
   ],
   "source": [
    "df.neighbourhood_group.value_counts()"
   ]
  },
  {
   "cell_type": "code",
   "execution_count": 56,
   "metadata": {},
   "outputs": [
    {
     "data": {
      "text/plain": [
       "LinearRegression(copy_X=True, fit_intercept=True, n_jobs=None, normalize=False)"
      ]
     },
     "execution_count": 56,
     "metadata": {},
     "output_type": "execute_result"
    }
   ],
   "source": [
    "from sklearn.linear_model import LinearRegression\n",
    "model = LinearRegression()\n",
    "model.fit(X_train,y_train)"
   ]
  },
  {
   "cell_type": "code",
   "execution_count": 57,
   "metadata": {},
   "outputs": [
    {
     "name": "stdout",
     "output_type": "stream",
     "text": [
      "51.58545401715558\n",
      "51.96521413349933\n"
     ]
    }
   ],
   "source": [
    "y_pred=model.predict(X_test)\n",
    "y_pred_train = model.predict(X_train)\n",
    "rmse_train=np.sqrt(mean_squared_error(y_train,y_pred_train))\n",
    "rmse_test=np.sqrt(mean_squared_error(y_test,y_pred))\n",
    "print(rmse_train)\n",
    "print(rmse_test)"
   ]
  },
  {
   "cell_type": "code",
   "execution_count": 58,
   "metadata": {},
   "outputs": [
    {
     "name": "stdout",
     "output_type": "stream",
     "text": [
      "Test Score : 0.48538219278775213\n"
     ]
    }
   ],
   "source": [
    "print('Test Score :', model.score(X_test,y_test))"
   ]
  },
  {
   "cell_type": "code",
   "execution_count": 59,
   "metadata": {},
   "outputs": [
    {
     "name": "stdout",
     "output_type": "stream",
     "text": [
      "Train Score : 0.49584775179343255\n"
     ]
    }
   ],
   "source": [
    "print('Train Score :',model.score(X_train,y_train))"
   ]
  },
  {
   "cell_type": "markdown",
   "metadata": {},
   "source": [
    "### Test Data"
   ]
  },
  {
   "cell_type": "code",
   "execution_count": 87,
   "metadata": {},
   "outputs": [],
   "source": [
    "y_pred_test = model.predict(test)"
   ]
  },
  {
   "cell_type": "code",
   "execution_count": 88,
   "metadata": {},
   "outputs": [],
   "source": [
    "submission_1 =pd.DataFrame(y_pred_test,index=test.index,columns=['price'])"
   ]
  },
  {
   "cell_type": "code",
   "execution_count": 89,
   "metadata": {},
   "outputs": [],
   "source": [
    "submission_1.to_csv('submission_1.csv')"
   ]
  },
  {
   "cell_type": "markdown",
   "metadata": {},
   "source": [
    "## `Decision Tree Regressor`"
   ]
  },
  {
   "cell_type": "code",
   "execution_count": 72,
   "metadata": {},
   "outputs": [
    {
     "data": {
      "text/plain": [
       "DecisionTreeRegressor(ccp_alpha=0.0, criterion='mse', max_depth=3,\n",
       "                      max_features=None, max_leaf_nodes=None,\n",
       "                      min_impurity_decrease=0.0, min_impurity_split=None,\n",
       "                      min_samples_leaf=1, min_samples_split=2,\n",
       "                      min_weight_fraction_leaf=0.0, presort='deprecated',\n",
       "                      random_state=17, splitter='best')"
      ]
     },
     "execution_count": 72,
     "metadata": {},
     "output_type": "execute_result"
    },
    {
     "name": "stdout",
     "output_type": "stream",
     "text": [
      "RMSE Value Train is  51.500401459145294\n",
      "RMSE Value Test is  51.74692492674651\n"
     ]
    }
   ],
   "source": [
    "model = DecisionTreeRegressor(max_depth=3,random_state=17)\n",
    "model.fit(X_train, y_train)\n",
    "y_dt = model.predict(X_test)\n",
    "y_dt_train = model.predict(X_train)\n",
    "print('RMSE Value Train is ',np.sqrt(mean_squared_error(y_train, y_dt_train)))\n",
    "print('RMSE Value Test is ',np.sqrt(mean_squared_error(y_test, y_dt)))\n",
    "y_pred_test = model.predict(test)\n",
    "sample_submission_2 =pd.DataFrame(y_pred_test,columns = ['price'],index= test.index)\n",
    "sample_submission_2.to_csv('submission_2.csv')"
   ]
  },
  {
   "cell_type": "code",
   "execution_count": 73,
   "metadata": {},
   "outputs": [
    {
     "name": "stdout",
     "output_type": "stream",
     "text": [
      "Train Score : 0.49750884366451875\n",
      "Test Score : 0.4896966008796479\n"
     ]
    }
   ],
   "source": [
    "print('Train Score :',model.score(X_train,y_train))\n",
    "print('Test Score :', model.score(X_test,y_test))"
   ]
  },
  {
   "cell_type": "markdown",
   "metadata": {},
   "source": [
    "## `Random Tree Regressor`"
   ]
  },
  {
   "cell_type": "code",
   "execution_count": 74,
   "metadata": {},
   "outputs": [
    {
     "data": {
      "text/plain": [
       "RandomForestRegressor(bootstrap=True, ccp_alpha=0.0, criterion='mse',\n",
       "                      max_depth=3, max_features='auto', max_leaf_nodes=None,\n",
       "                      max_samples=None, min_impurity_decrease=0.0,\n",
       "                      min_impurity_split=None, min_samples_leaf=1,\n",
       "                      min_samples_split=2, min_weight_fraction_leaf=0.0,\n",
       "                      n_estimators=100, n_jobs=None, oob_score=False,\n",
       "                      random_state=0, verbose=0, warm_start=False)"
      ]
     },
     "execution_count": 74,
     "metadata": {},
     "output_type": "execute_result"
    },
    {
     "name": "stdout",
     "output_type": "stream",
     "text": [
      "RMSE Value Train is  51.18240464186699\n",
      "RMSE Value Test is  51.49541269574016\n"
     ]
    }
   ],
   "source": [
    "model = RandomForestRegressor(max_depth=3,random_state=0)\n",
    "model.fit(X_train, y_train)\n",
    "y_pred_rf = model.predict(X_test)\n",
    "y_rf_train = model.predict(X_train)\n",
    "print('RMSE Value Train is ',np.sqrt(mean_squared_error(y_train, y_rf_train)))\n",
    "print('RMSE Value Test is ',np.sqrt(mean_squared_error(y_test, y_pred_rf)))\n",
    "y_pred_test_rf = model.predict(test)\n",
    "sample_submission3 =pd.DataFrame(y_pred_test_rf,columns = ['price'],index= test.index)\n",
    "sample_submission3.to_csv('submission_3.csv')"
   ]
  },
  {
   "cell_type": "code",
   "execution_count": 75,
   "metadata": {},
   "outputs": [
    {
     "name": "stdout",
     "output_type": "stream",
     "text": [
      "Train Score : 0.5036950969225653\n",
      "Test Score : 0.4946451320066685\n"
     ]
    }
   ],
   "source": [
    "print('Train Score :',model.score(X_train,y_train))\n",
    "print('Test Score :', model.score(X_test,y_test))"
   ]
  },
  {
   "cell_type": "markdown",
   "metadata": {},
   "source": [
    "## Scaling"
   ]
  },
  {
   "cell_type": "code",
   "execution_count": 175,
   "metadata": {},
   "outputs": [
    {
     "data": {
      "text/html": [
       "<div>\n",
       "<style scoped>\n",
       "    .dataframe tbody tr th:only-of-type {\n",
       "        vertical-align: middle;\n",
       "    }\n",
       "\n",
       "    .dataframe tbody tr th {\n",
       "        vertical-align: top;\n",
       "    }\n",
       "\n",
       "    .dataframe thead th {\n",
       "        text-align: right;\n",
       "    }\n",
       "</style>\n",
       "<table border=\"1\" class=\"dataframe\">\n",
       "  <thead>\n",
       "    <tr style=\"text-align: right;\">\n",
       "      <th></th>\n",
       "      <th>neighbourhood_group</th>\n",
       "      <th>latitude</th>\n",
       "      <th>longitude</th>\n",
       "      <th>room_type</th>\n",
       "      <th>minimum_nights</th>\n",
       "      <th>number_of_reviews</th>\n",
       "      <th>reviews_per_month</th>\n",
       "      <th>calculated_host_listings_count</th>\n",
       "      <th>availability_365</th>\n",
       "    </tr>\n",
       "    <tr>\n",
       "      <th>id</th>\n",
       "      <th></th>\n",
       "      <th></th>\n",
       "      <th></th>\n",
       "      <th></th>\n",
       "      <th></th>\n",
       "      <th></th>\n",
       "      <th></th>\n",
       "      <th></th>\n",
       "      <th></th>\n",
       "    </tr>\n",
       "  </thead>\n",
       "  <tbody>\n",
       "    <tr>\n",
       "      <th>1525602</th>\n",
       "      <td>Brooklyn</td>\n",
       "      <td>40.67</td>\n",
       "      <td>-73.96</td>\n",
       "      <td>Entire home/apt</td>\n",
       "      <td>1.10</td>\n",
       "      <td>4.26</td>\n",
       "      <td>1.70</td>\n",
       "      <td>1</td>\n",
       "      <td>39</td>\n",
       "    </tr>\n",
       "    <tr>\n",
       "      <th>30430185</th>\n",
       "      <td>Manhattan</td>\n",
       "      <td>40.76</td>\n",
       "      <td>-74.00</td>\n",
       "      <td>Private room</td>\n",
       "      <td>0.69</td>\n",
       "      <td>2.94</td>\n",
       "      <td>2.49</td>\n",
       "      <td>6</td>\n",
       "      <td>364</td>\n",
       "    </tr>\n",
       "    <tr>\n",
       "      <th>21354525</th>\n",
       "      <td>Brooklyn</td>\n",
       "      <td>40.69</td>\n",
       "      <td>-73.99</td>\n",
       "      <td>Private room</td>\n",
       "      <td>0.69</td>\n",
       "      <td>4.26</td>\n",
       "      <td>3.21</td>\n",
       "      <td>1</td>\n",
       "      <td>108</td>\n",
       "    </tr>\n",
       "    <tr>\n",
       "      <th>35995074</th>\n",
       "      <td>Queens</td>\n",
       "      <td>40.77</td>\n",
       "      <td>-73.91</td>\n",
       "      <td>Private room</td>\n",
       "      <td>2.30</td>\n",
       "      <td>1.79</td>\n",
       "      <td>0.70</td>\n",
       "      <td>2</td>\n",
       "      <td>365</td>\n",
       "    </tr>\n",
       "    <tr>\n",
       "      <th>34392081</th>\n",
       "      <td>Brooklyn</td>\n",
       "      <td>40.72</td>\n",
       "      <td>-73.95</td>\n",
       "      <td>Private room</td>\n",
       "      <td>0.69</td>\n",
       "      <td>3.37</td>\n",
       "      <td>3.21</td>\n",
       "      <td>2</td>\n",
       "      <td>20</td>\n",
       "    </tr>\n",
       "  </tbody>\n",
       "</table>\n",
       "</div>"
      ],
      "text/plain": [
       "         neighbourhood_group  latitude  longitude        room_type  \\\n",
       "id                                                                   \n",
       "1525602             Brooklyn     40.67     -73.96  Entire home/apt   \n",
       "30430185           Manhattan     40.76     -74.00     Private room   \n",
       "21354525            Brooklyn     40.69     -73.99     Private room   \n",
       "35995074              Queens     40.77     -73.91     Private room   \n",
       "34392081            Brooklyn     40.72     -73.95     Private room   \n",
       "\n",
       "          minimum_nights  number_of_reviews  reviews_per_month  \\\n",
       "id                                                               \n",
       "1525602             1.10               4.26               1.70   \n",
       "30430185            0.69               2.94               2.49   \n",
       "21354525            0.69               4.26               3.21   \n",
       "35995074            2.30               1.79               0.70   \n",
       "34392081            0.69               3.37               3.21   \n",
       "\n",
       "          calculated_host_listings_count  availability_365  \n",
       "id                                                          \n",
       "1525602                                1                39  \n",
       "30430185                               6               364  \n",
       "21354525                               1               108  \n",
       "35995074                               2               365  \n",
       "34392081                               2                20  "
      ]
     },
     "execution_count": 175,
     "metadata": {},
     "output_type": "execute_result"
    }
   ],
   "source": [
    "test.head()"
   ]
  },
  {
   "cell_type": "code",
   "execution_count": 174,
   "metadata": {},
   "outputs": [],
   "source": [
    "X=df.drop('price',axis=1)\n",
    "y=df.price"
   ]
  },
  {
   "cell_type": "code",
   "execution_count": 176,
   "metadata": {},
   "outputs": [],
   "source": [
    "test_cols = test.columns\n",
    "X_cols = X.columns"
   ]
  },
  {
   "cell_type": "code",
   "execution_count": 177,
   "metadata": {},
   "outputs": [],
   "source": [
    "le = LabelEncoder()\n",
    "for col in label_encode_cols:\n",
    "    X[col] = le.fit_transform(X[col])\n",
    "    test[col] = le.transform(test[col])\n",
    "    \n",
    "scaler = StandardScaler()\n",
    "X_scaled = scaler.fit_transform(X)\n",
    "test_scaled = scaler.fit_transform(test)\n",
    "X = pd.DataFrame(X_scaled, columns=X_cols,index =X.index)\n",
    "test = pd.DataFrame(test_scaled, columns =test_cols,index = test.index )\n",
    "\n",
    "# Spliting\n",
    "X_train, X_test, y_train, y_test = train_test_split(X, y, test_size=0.25, random_state=72)"
   ]
  },
  {
   "cell_type": "markdown",
   "metadata": {},
   "source": [
    "## `Linear Regression on Scaled Data`"
   ]
  },
  {
   "cell_type": "code",
   "execution_count": 178,
   "metadata": {},
   "outputs": [
    {
     "name": "stdout",
     "output_type": "stream",
     "text": [
      "Train RMSE: 51.70959600995507\n",
      "Test RMSE: 51.65532208583279\n"
     ]
    }
   ],
   "source": [
    "lr = LinearRegression()\n",
    "lr.fit(X_train, y_train)\n",
    "\n",
    "print('Train RMSE:',np.sqrt(mean_squared_error(y_train, lr.predict(X_train))))\n",
    "print('Test RMSE:',np.sqrt(mean_squared_error(y_test, lr.predict(X_test))));"
   ]
  },
  {
   "cell_type": "code",
   "execution_count": 179,
   "metadata": {},
   "outputs": [],
   "source": [
    "target_scaler = StandardScaler()"
   ]
  },
  {
   "cell_type": "code",
   "execution_count": 181,
   "metadata": {},
   "outputs": [],
   "source": [
    "y_pred_test_linear = lr.predict(test)\n",
    "sample_submission4 =pd.DataFrame(y_pred_test_linear,columns = ['price'],index= test.index)\n",
    "sample_submission4.to_csv('submission_4.csv')"
   ]
  },
  {
   "cell_type": "code",
   "execution_count": 182,
   "metadata": {},
   "outputs": [
    {
     "data": {
      "text/plain": [
       "array([141.91822478, 159.69088391, 107.9613316 , ..., 118.80179748,\n",
       "       196.36335985, 133.19112112])"
      ]
     },
     "execution_count": 182,
     "metadata": {},
     "output_type": "execute_result"
    }
   ],
   "source": [
    "y_pred_test_linear"
   ]
  },
  {
   "cell_type": "code",
   "execution_count": 183,
   "metadata": {},
   "outputs": [
    {
     "name": "stdout",
     "output_type": "stream",
     "text": [
      "Train Score : 0.49411440129976947\n",
      "Test Score : 0.4887161332549469\n"
     ]
    }
   ],
   "source": [
    "print('Train Score :',lr.score(X_train,y_train))\n",
    "print('Test Score :', lr.score(X_test,y_test))"
   ]
  },
  {
   "cell_type": "markdown",
   "metadata": {},
   "source": [
    "## `Decision tree on Scaled Data`"
   ]
  },
  {
   "cell_type": "code",
   "execution_count": 184,
   "metadata": {},
   "outputs": [
    {
     "name": "stdout",
     "output_type": "stream",
     "text": [
      "Train RMSLE: 48.89972575305466\n",
      "Test RMSLE: 49.471447383774\n"
     ]
    }
   ],
   "source": [
    "dt_reg = DecisionTreeRegressor(random_state=42)\n",
    "\n",
    "param_grid = dict(max_depth=range(5,20), min_samples_split=range(50,200,10), min_samples_leaf=range(25,100,10), max_leaf_nodes=range(8,32,2), min_impurity_decrease=(0.3,1.0,0.1))\n",
    "grid = RandomizedSearchCV(dt_reg, param_grid, scoring='neg_mean_squared_error', n_jobs=4, cv=5, random_state=33)\n",
    "grid.fit(X_train,y_train);\n",
    "\n",
    "\n",
    "print('Train RMSLE:',np.sqrt(mean_squared_error(y_train, grid.best_estimator_.predict(X_train))))\n",
    "print('Test RMSLE:',np.sqrt(mean_squared_error(y_test, grid.best_estimator_.predict(X_test))));"
   ]
  },
  {
   "cell_type": "code",
   "execution_count": 185,
   "metadata": {},
   "outputs": [],
   "source": [
    "dt_best =grid.best_estimator_"
   ]
  },
  {
   "cell_type": "code",
   "execution_count": 186,
   "metadata": {},
   "outputs": [
    {
     "name": "stdout",
     "output_type": "stream",
     "text": [
      "Train Score : 0.5475997110481974\n",
      "Test Score : 0.5310341974077308\n"
     ]
    }
   ],
   "source": [
    "print('Train Score :',dt_best.score(X_train,y_train))\n",
    "print('Test Score :', dt_best.score(X_test,y_test))"
   ]
  },
  {
   "cell_type": "code",
   "execution_count": 187,
   "metadata": {},
   "outputs": [],
   "source": [
    "y_pred_test_dt = dt_best.predict(test)\n",
    "sample_submission5 =pd.DataFrame(y_pred_test_dt,columns = ['price'],index= test.index)\n",
    "sample_submission5.to_csv('submission_5.csv')"
   ]
  },
  {
   "cell_type": "markdown",
   "metadata": {},
   "source": [
    "## `Random Forest on Scaled Data`"
   ]
  },
  {
   "cell_type": "code",
   "execution_count": 188,
   "metadata": {},
   "outputs": [
    {
     "name": "stdout",
     "output_type": "stream",
     "text": [
      "Train RMSLE: 48.27076825197224\n",
      "Test RMSLE: 48.6207729166086\n"
     ]
    }
   ],
   "source": [
    "rf_model = RandomForestRegressor(random_state=33)\n",
    "param_grid = dict(n_estimators=range(10,100,10),max_depth=range(3,20),min_samples_split=range(50,500,20),min_samples_leaf=range(25,75,10),max_leaf_nodes=range(8,32,2))\n",
    "grid = RandomizedSearchCV(rf_model,param_grid,scoring='neg_mean_squared_error',n_jobs=-1,cv=5,random_state=33)\n",
    "grid.fit(X_train,y_train);\n",
    "\n",
    "\n",
    "print('Train RMSLE:',np.sqrt(mean_squared_error(y_train, grid.best_estimator_.predict(X_train))))\n",
    "print('Test RMSLE:',np.sqrt(mean_squared_error(y_test, grid.best_estimator_.predict(X_test))));"
   ]
  },
  {
   "cell_type": "code",
   "execution_count": 189,
   "metadata": {},
   "outputs": [],
   "source": [
    "rf_best = grid.best_estimator_"
   ]
  },
  {
   "cell_type": "code",
   "execution_count": 190,
   "metadata": {},
   "outputs": [
    {
     "name": "stdout",
     "output_type": "stream",
     "text": [
      "Train Score : 0.5591625835884486\n",
      "Test Score : 0.5470235140803635\n"
     ]
    }
   ],
   "source": [
    "print('Train Score :',rf_best.score(X_train,y_train))\n",
    "print('Test Score :', rf_best.score(X_test,y_test))"
   ]
  },
  {
   "cell_type": "code",
   "execution_count": 191,
   "metadata": {},
   "outputs": [],
   "source": [
    "y_pred_test_rf = rf_best.predict(test)\n",
    "sample_submission6 =pd.DataFrame(y_pred_test_rf,columns = ['price'],index= test.index)\n",
    "sample_submission6.to_csv('submission_6.csv')"
   ]
  },
  {
   "cell_type": "code",
   "execution_count": null,
   "metadata": {},
   "outputs": [],
   "source": []
  }
 ],
 "metadata": {
  "kernelspec": {
   "display_name": "Python 3",
   "language": "python",
   "name": "python3"
  },
  "language_info": {
   "codemirror_mode": {
    "name": "ipython",
    "version": 3
   },
   "file_extension": ".py",
   "mimetype": "text/x-python",
   "name": "python",
   "nbconvert_exporter": "python",
   "pygments_lexer": "ipython3",
   "version": "3.7.4"
  }
 },
 "nbformat": 4,
 "nbformat_minor": 2
}
